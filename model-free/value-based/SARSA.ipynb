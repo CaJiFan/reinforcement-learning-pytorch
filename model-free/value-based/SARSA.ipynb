{
 "cells": [
  {
   "cell_type": "code",
   "execution_count": 1,
   "id": "1b4ec5ca",
   "metadata": {},
   "outputs": [
    {
     "data": {
      "text/plain": [
       "True"
      ]
     },
     "execution_count": 1,
     "metadata": {},
     "output_type": "execute_result"
    }
   ],
   "source": [
    "import gymnasium as gym\n",
    "import torch\n",
    "import matplotlib.pyplot as plt\n",
    "import numpy as np\n",
    "\n",
    "# torch.cuda.is_available()\n",
    "torch.backends.mps.is_available()"
   ]
  },
  {
   "cell_type": "markdown",
   "id": "3d8f8686",
   "metadata": {},
   "source": [
    "# Getting familiar with the environment"
   ]
  },
  {
   "cell_type": "markdown",
   "id": "db751ec1",
   "metadata": {},
   "source": [
    "Now we are going to use the MountainCar env\n",
    "Which is a little bit more complicated that Taxi because it has a continuous state (observation) space"
   ]
  },
  {
   "cell_type": "code",
   "execution_count": 29,
   "id": "ad1a4136",
   "metadata": {},
   "outputs": [
    {
     "name": "stdout",
     "output_type": "stream",
     "text": [
      "\n",
      "Action space size: 3.\n",
      "    0 -> Accelerate to the left \n",
      "    1 -> Do nothing\n",
      "    2 -> Accelerate to the right\n",
      "\n",
      "Observation space (states): Box([-1.2  -0.07], [0.6  0.07], (2,), float32)\n",
      "Env's horizon (maximum episode length limit): 10000\n",
      "State (position, speed) extends from [-1.2  -0.07] to [0.6  0.07]\n"
     ]
    }
   ],
   "source": [
    "env = gym.make('MountainCar-v0', render_mode='rgb_array', max_episode_steps=10_000)\n",
    "print(f\"\"\"\n",
    "Action space size: {env.action_space.n}.\n",
    "    0 -> Accelerate to the left \n",
    "    1 -> Do nothing\n",
    "    2 -> Accelerate to the right\n",
    "\"\"\")\n",
    "print(f'Observation space (states): {env.observation_space}') \n",
    "print(f\"Env's horizon (maximum episode length limit): {env.spec.max_episode_steps}\")\n",
    "print(f'State (position, speed) extends from {env.observation_space.low} to {env.observation_space.high}')"
   ]
  },
  {
   "cell_type": "code",
   "execution_count": 12,
   "id": "d2ae43ea",
   "metadata": {},
   "outputs": [],
   "source": [
    "def plot_frame(frame):\n",
    "    plt.imshow(frame)\n",
    "    plt.axis('off')\n",
    "    plt.show()"
   ]
  },
  {
   "cell_type": "code",
   "execution_count": 30,
   "id": "1fde8a6f",
   "metadata": {},
   "outputs": [
    {
     "name": "stdout",
     "output_type": "stream",
     "text": [
      "\n",
      "    For rewards:\n",
      "        -1 -> if position < 0.5\n",
      "    Episode ends (terminated) when position >= 0.5\n",
      "    Episode is `truncated` if the steps surpass the horizon of the env\n",
      "        \n",
      "\n"
     ]
    },
    {
     "data": {
      "image/png": "[encoded data removed]",
      "text/plain": [
       "<Figure size 640x480 with 1 Axes>"
      ]
     },
     "metadata": {},
     "output_type": "display_data"
    }
   ],
   "source": [
    "obs, info = env.reset()\n",
    "frame = env.render() \n",
    "\n",
    "print(\n",
    "    \"\"\"\n",
    "    For rewards:\n",
    "        -1 -> if position < 0.5\n",
    "    Episode ends (terminated) when position >= 0.5\n",
    "    Episode is `truncated` if the steps surpass the horizon of the env\n",
    "        \n",
    "\"\"\")\n",
    "\n",
    "plot_frame(frame)"
   ]
  },
  {
   "cell_type": "markdown",
   "id": "9dcab939",
   "metadata": {},
   "source": [
    "# The SARSA agent"
   ]
  },
  {
   "cell_type": "code",
   "execution_count": null,
   "id": "64e6d943",
   "metadata": {},
   "outputs": [],
   "source": [
    "class SARSAAgent:\n",
    "    def __init__(self, env, alpha, gamma):\n",
    "        self.env = env\n",
    "        self.alpha = alpha\n",
    "        self.gamma = gamma\n",
    "\n",
    "        # self.q_table = np.zeros((env.observation_space.n, env.action_space.n))\n",
    "\n",
    "    def get_action(self, state):\n",
    "        return np.argmax(self.q_table[state])\n",
    "    \n",
    "    def update_parameters(self, state, action , reward, next_state):\n",
    "        # Q-learning update rule/formula\n",
    "        old_value = self.q_table[state][action]\n",
    "        new_max = np.max(self.q_table[next_state])\n",
    "        new_value = old_value + self.alpha * (reward + self.gamma * new_max - old_value)\n",
    "\n",
    "        self.q_table[state][action] = new_value"
   ]
  },
  {
   "cell_type": "markdown",
   "id": "6416bd1f",
   "metadata": {},
   "source": [
    "### Yoy might be thinking that the code looks pretty similar to Q-Learning\n",
    "### So it's important to understand key theoretical differences and important reinforcement learning concepts\n",
    "\n",
    "In **Reinforcement Learning (RL)**, both **Q-Learning** and **SARSA** are popular algorithms for learning the optimal action-value function `Q(s, a)`. However, they differ in **policy evaluation** and whether they are **on-policy** or **off-policy**.\n",
    "\n",
    "---\n",
    "\n",
    "## 1️⃣ Q-Learning\n",
    "\n",
    "- **Type:** Off-Policy\n",
    "- **Goal:** Learn the optimal action-value function regardless of the agent's current policy.\n",
    "- **Update Rule:**\n",
    "\n",
    "\\[\n",
    "Q(s_t, a_t) \\leftarrow Q(s_t, a_t) + \\alpha \\Big[ r_{t+1} + \\gamma \\max_{a} Q(s_{t+1}, a) - Q(s_t, a_t) \\Big]\n",
    "\\]\n",
    "\n",
    "- **Key Point:** Uses the **maximum Q value of the next state** (`max_a Q(s_{t+1}, a)`) for the update, **ignoring the action actually taken** by the agent.\n",
    "- **Effect:** Learns the optimal policy even if the agent is exploring (ε-greedy).\n",
    "\n",
    "---\n",
    "\n",
    "## 2️⃣ SARSA\n",
    "\n",
    "- **Type:** On-Policy\n",
    "- **Goal:** Learn the action-value function for the **policy the agent is actually following**.\n",
    "- **Update Rule:**\n",
    "\n",
    "\\[\n",
    "Q(s_t, a_t) \\leftarrow Q(s_t, a_t) + \\alpha \\Big[ r_{t+1} + \\gamma Q(s_{t+1}, a_{t+1}) - Q(s_t, a_t) \\Big]\n",
    "\\]\n",
    "\n",
    "- **Key Point:** Uses the **Q value of the next action actually chosen** (`Q(s_{t+1}, a_{t+1})`) by the policy.\n",
    "- **Effect:** Learns the value of the current policy, which can be more conservative in risky environments.\n",
    "\n",
    "---\n",
    "\n",
    "## 3️⃣ On-Policy vs Off-Policy\n",
    "\n",
    "| Aspect          | On-Policy (SARSA)                 | Off-Policy (Q-Learning)            |\n",
    "|-----------------|---------------------------------|-----------------------------------|\n",
    "| Policy Used     | Learns the value of **current policy** | Learns the value of **optimal policy**, ignoring current policy |\n",
    "| Exploration     | Updates follow the **actions actually taken** | Updates use **best possible action**, may differ from taken action |\n",
    "| Risk Sensitivity| More conservative (aware of ε-greedy) | Aggressive (assumes always optimal next action) |\n",
    "\n",
    "---\n",
    "\n",
    "**Summary:**  \n",
    "- **SARSA:** On-policy, safer updates, follows current policy.  \n",
    "- **Q-Learning:** Off-policy, learns optimal policy directly, may ignore risky exploratory actions.  \n",
    "\n"
   ]
  }
 ],
 "metadata": {
  "kernelspec": {
   "display_name": "rl-torch",
   "language": "python",
   "name": "python3"
  },
  "language_info": {
   "codemirror_mode": {
    "name": "ipython",
    "version": 3
   },
   "file_extension": ".py",
   "mimetype": "text/x-python",
   "name": "python",
   "nbconvert_exporter": "python",
   "pygments_lexer": "ipython3",
   "version": "3.10.18"
  }
 },
 "nbformat": 4,
 "nbformat_minor": 5
}
